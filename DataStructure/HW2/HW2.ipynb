{
 "cells": [
  {
   "cell_type": "markdown",
   "metadata": {},
   "source": [
    "## Programming part of Homework 2 (Data Structures, Fall 2024)\n",
    "\n",
    "## Name: Chun-i Chen\n",
    "## Student ID Number: 112590022\n",
    "\n",
    "### Programming problem 1\n",
    "Consider the problem of finding the binary representation of a positive decimal integer Problem 1. Please use Python to implement the pseudo-code you provide for solving the problem. You should provide the iterative and recursive functions named with `Dec_to_Bin_Ite()` and `Dec_to_Bin_Rec()` respectively. Then, perform a comparison on these two versions by measuring the execution time. Besides, we also consider the number of recursive calls made in the recursive approaches. Hence, you need to\n",
    "1. implement the iterative approach as a function named as `Dec_to_Bin_Ite()`,\n",
    "2. provide the recursive version for the approach named as `Dec_to_Bin_Rec()`, and\n",
    "3. compare these two function with the same input in terms of running time and write what you have observed.\n",
    "\n",
    "We will use an in-built python library `timeit` and the module function `timeit.timeit()` for measuring the running time respective. In you observation, please indicate the ways to measure the time and this will be provided in the template.\n",
    "\n",
    "**Note:** For the programming problems, please do some experiments by yourself to observe the running time and the number of recursive calls. You need to report what you have observed from the experiments when you submit your homework."
   ]
  },
  {
   "cell_type": "code",
   "execution_count": 34,
   "metadata": {},
   "outputs": [
    {
     "name": "stdout",
     "output_type": "stream",
     "text": [
      "1010\n",
      "10011\n",
      "111111\n"
     ]
    }
   ],
   "source": [
    "def Dec_to_Bin_Ite(n):\n",
    "    binary = ''\n",
    "\n",
    "    while(n):\n",
    "        b = n%2\n",
    "        n = n//2\n",
    "        binary = ('1' if b==1 else '0' ) + binary\n",
    "    return binary\n",
    "    \n",
    "print(Dec_to_Bin_Ite(10))\n",
    "print(Dec_to_Bin_Ite(19))\n",
    "print(Dec_to_Bin_Ite(63))"
   ]
  },
  {
   "cell_type": "code",
   "execution_count": 33,
   "metadata": {},
   "outputs": [
    {
     "name": "stdout",
     "output_type": "stream",
     "text": [
      "1010\n",
      "10011\n",
      "111111\n"
     ]
    }
   ],
   "source": [
    "def Dec_to_Bin_Rec(n):\n",
    "    if n==0: return ''\n",
    "    else: return Dec_to_Bin_Rec(n//2) + str(n%2)\n",
    "\n",
    "print(Dec_to_Bin_Rec(10))\n",
    "print(Dec_to_Bin_Rec(19))\n",
    "print(Dec_to_Bin_Rec(63))"
   ]
  },
  {
   "cell_type": "code",
   "execution_count": 43,
   "metadata": {},
   "outputs": [
    {
     "name": "stdout",
     "output_type": "stream",
     "text": [
      "Running time comparison (Timer Method 1):\n",
      "Iterative on  5625\n",
      "iterative approach: 0.017834999998740386\n",
      "Recursive approach: 0.024668300000485033\n",
      "Running time comparison (Timer Method 2):\n",
      "Iterative on  5625\n",
      "iterative approach: 0.015575299999909475\n",
      "Recursive approach: 0.02437090000603348\n"
     ]
    }
   ],
   "source": [
    "#---------------------------------------------------------timeit\n",
    "import timeit as ti\n",
    "n=5625\n",
    "#---------------------------------------------------------Method 1\n",
    "print(\"Running time comparison (Timer Method 1):\")\n",
    "\n",
    "tstart = ti.default_timer() #timer start 計時器開啟\n",
    "for i in range(10000):\n",
    "    Dec_to_Bin_Ite(n)\n",
    "tend = ti.default_timer() #timer end計時器關閉\n",
    "t_ite=tend - tstart#開始與結束的差值\n",
    "\n",
    "tstart = ti.default_timer() #timer start 計時器開啟\n",
    "for i in range(10000):\n",
    "    Dec_to_Bin_Rec(n)\n",
    "tend = ti.default_timer() #timer end計時器關閉\n",
    "t_rec=tend - tstart#開始與結束的差值\n",
    "\n",
    "print(\"Iterative on \", n)\n",
    "print(\"iterative approach:\", t_ite)\n",
    "print(\"Recursive approach:\", t_rec)\n",
    "\n",
    "#---------------------------------------------------------Method 2\n",
    "print(\"Running time comparison (Timer Method 2):\")\n",
    "\n",
    "def iterative_test():\n",
    "    Dec_to_Bin_Ite(n)\n",
    "    \n",
    "def recursive_test():\n",
    "    Dec_to_Bin_Rec(n)\n",
    "    \n",
    "t_ite = ti.timeit(\"iterative_test()\", setup=\"from __main__ import iterative_test\", number = 10000)#timeit(函數名稱,執行次數)\n",
    "t_rec = ti.timeit(\"recursive_test()\", setup=\"from __main__ import recursive_test\", number = 10000)\n",
    "\n",
    "print(\"Iterative on \", n)\n",
    "print(\"iterative approach:\", t_ite)\n",
    "print(\"Recursive approach:\", t_rec)\n"
   ]
  },
  {
   "cell_type": "markdown",
   "metadata": {},
   "source": [
    "#### Please write down the observations you have after the comparisons:\n",
    "##### Inputs (values of n) for five experiments\n",
    "1. 1050<br>\n",
    "2. 2625<br>\n",
    "3. 3675<br>\n",
    "4. 4725<br>\n",
    "5. 5625<br>\n",
    "##### Results of comparisons\n",
    "*******************************************************************************************************\n",
    "**Method 1**\n",
    "\n",
    "| time          | time for exp1  | time for exp2  | time for exp3  | time for exp4  | time for exp5  | \n",
    "| -----------   | -------------- | -------------- | -------------- | -------------- | -------------- |\n",
    "|Iteration      | 0.014493900002 | 0.021322100074 | 0.018662500079 | 0.016664700001 | 0.025666999980 |\n",
    "|Recursion      | 0.021456099989 | 0.029938800028 | 0.024456500076 | 0.024464700022 | 0.025554699940 |\n",
    "\n",
    "**Method 2**\n",
    "\n",
    "| time          | time for exp1  | time for exp2  | time for exp3  | time for exp4  | time for exp5  | \n",
    "| -----------   | -------------- | -------------- | -------------- | -------------- | -------------- |\n",
    "|Iteration      | 0.012669099960 | 0.015030100010 | 0.015862900065 | 0.016367999953 | 0.015925899963 |\n",
    "|Recursion      | 0.020288800006 | 0.022842300008 | 0.028425100027 | 0.025355900056 | 0.032285499969 |\n",
    "\n",
    "*******************************************************************************************************\n",
    "\n",
    "##### Observations\n",
    "After the above five experiments, it was found that there have a few times where the recursion time is faster than the iteration time with the same input, and both of them are very close. However, in most cases, the iteration time is significantly faster than the recursion time, I believe this is due to the overhead of function calls, which causes some delay.\n",
    "<hr>"
   ]
  },
  {
   "cell_type": "markdown",
   "metadata": {},
   "source": [
    "### Programming problem 2\n",
    "A ***permutation*** $P$ of size $n$ is a way of arranging the numbers between 1 and $n$, where each number must be used and can only be used once. For example, 5 4 1 2 3 is a permutation of 1 2 3 4 5 where $P(5)=1$, $P(4)=2$, $P(1)=3$, $P(2)=4$, and $P(3)=5$. An ***inversion*** in a permutation $P$ is a pair of numbers $i \\mbox{ and} j \\in\\{1, \\ldots, n\\}$ with $i<j$ such that the larger number appears to the left of the smaller one in the permutation, that is $P(j)<P(i)$. In the example, the pair of (3, 5) is an inversion in $P$. The ***inversion number*** of a permutation is the total number of inversions. Please write the Python fuctions mentioned in Problem 4 and compare the performance in term of running time. The things to be provided are as below.\n",
    "1. Implement the iterative approach using Python and name the function as `inversion_number_iterative()`.\n",
    "2. Please implement the linear recursive version you provide in Problem 4(c) with the function name of `inversion\\_number\\_recursive()`.\n",
    "3. Write the binary recursive version you provide in Problem 4(d) with the function named as `inversion\\_number\\_tworecurs()`.\n",
    "4. Compare these functions with the same input in terms of running time and write what you have observed."
   ]
  },
  {
   "cell_type": "code",
   "execution_count": 18,
   "metadata": {},
   "outputs": [
    {
     "name": "stdout",
     "output_type": "stream",
     "text": [
      "The inversion number of  [4, 6, 2, 5, 1, 3] is 10\n"
     ]
    }
   ],
   "source": [
    "def inversion_number_iterative(P):\n",
    "    count = 0\n",
    "    for i in range(len(P)):\n",
    "        for j in range(i+1,len(P)):\n",
    "            if(P[i]>P[j]): count+=1\n",
    "    return count\n",
    "\n",
    "perm=[4, 6, 2, 5, 1, 3]\n",
    "# perm = [12, 11, 13, 5, 6, 7]\n",
    "# perm=[35, 11, 26, 13, 64, 21, 44, 6, 100, 57, 77, 82]\n",
    "print('The inversion number of ', perm, 'is', inversion_number_iterative(perm))"
   ]
  },
  {
   "cell_type": "code",
   "execution_count": 22,
   "metadata": {},
   "outputs": [
    {
     "name": "stdout",
     "output_type": "stream",
     "text": [
      "The inversion number of  [4, 6, 2, 5, 1, 3] is 10\n"
     ]
    }
   ],
   "source": [
    "def inversion_number_recurs(P,i):\n",
    "    if(i==len(P)-1): return 0\n",
    "    total = 0\n",
    "    for j in range(i+1,len(P)):\n",
    "        if(P[i]>P[j]): total+=1\n",
    "    return total + inversion_number_recurs(P,i+1)\n",
    "\n",
    "def inversion_number_recursive(P):\n",
    "    return inversion_number_recurs(P,0)    \n",
    "perm=[4, 6, 2, 5, 1, 3]\n",
    "#perm = [12, 11, 13, 5, 6, 7]\n",
    "# perm=[35, 11, 26, 13, 64, 21, 44, 6, 100, 57, 77, 82]\n",
    "print('The inversion number of ', perm, 'is', inversion_number_recursive(perm))"
   ]
  },
  {
   "cell_type": "code",
   "execution_count": 19,
   "metadata": {},
   "outputs": [
    {
     "name": "stdout",
     "output_type": "stream",
     "text": [
      "The inversion number of  [4, 6, 2, 5, 1, 3] is 10\n"
     ]
    }
   ],
   "source": [
    "def counting(P,left,right):\n",
    "    total = 0\n",
    "    mid = (left+right)//2\n",
    "    \n",
    "    for i in range(left,mid+1,1):\n",
    "        for j in range(right,mid,-1):\n",
    "            if(P[i]>P[j]): total+=1\n",
    "    #print(f'i={i} j={j} counting: {total}')\n",
    "    return total\n",
    "\n",
    "\n",
    "def inversion_number_tworecursive(P,left,right):\n",
    "    if(left+1 < right and right<len(P)):\n",
    "        mid = (left+right)//2\n",
    "        total = inversion_number_tworecursive(P,left,mid) # left\n",
    "        total += inversion_number_tworecursive(P,mid+1,right) # right\n",
    "        total += counting(P,left,right)\n",
    "        #print(total)\n",
    "        return total\n",
    "    elif(left+1 == right):\n",
    "        #print(f'{left},{right}')\n",
    "        return 1 if(P[left]>P[right]) else 0\n",
    "    return 0\n",
    "\n",
    "\n",
    "def inversion_number_tworecurs(P):\n",
    "    return inversion_number_tworecursive(P,0,len(P)-1)\n",
    "\n",
    "perm=[4, 6, 2, 5, 1, 3]\n",
    "# perm = [12, 11, 13, 5, 6, 7]\n",
    "# perm=[35, 11, 26, 13, 64, 21, 44, 6, 100, 57, 77, 82]\n",
    "print('The inversion number of ', perm, 'is', inversion_number_tworecurs(perm))"
   ]
  },
  {
   "cell_type": "code",
   "execution_count": 31,
   "metadata": {
    "scrolled": false
   },
   "outputs": [
    {
     "name": "stdout",
     "output_type": "stream",
     "text": [
      "Running time comparison (Timer Method 1):\n",
      "Permutation: [6154, 8124, 1254, 3012, 5469, 4512, 4321, 4720]\n",
      "The inversion number of is 16 (iterat)\n",
      "The inversion number of is 16 (linear)\n",
      "The inversion number of is 16 (binary)\n",
      "Iterative approach: 0.0363361999989138\n",
      "Recursive approach: 0.033943800000997726\n",
      "Binrecurs approach: 0.043609500004095025\n",
      "Running time comparison (Timer Method 2):\n",
      "Iterative approach: 0.02981790000194451\n",
      "Recursive approach: 0.03100270000140881\n",
      "Binrecurs approach: 0.03969039999356028\n"
     ]
    }
   ],
   "source": [
    "#---------------------------------------------------------timeit\n",
    "import timeit as ti\n",
    "\n",
    "perm = [6154, 8124, 1254, 3012, 5469, 4512, 4321, 4720]\n",
    "# perm=[35, 11, 26, 13, 64, 21, 44, 6, 100, 57, 77, 82]\n",
    "\n",
    "#---------------------------------------------------------Method 1\n",
    "print(\"Running time comparison (Timer Method 1):\")\n",
    "\n",
    "tstart = ti.default_timer() #timer start 計時器開啟\n",
    "\n",
    "for i in range(10000):\n",
    "    inversion_number_iterative(perm)\n",
    "tend = ti.default_timer() #timer end計時器關閉\n",
    "t_ite=tend - tstart#開始與結束的差值\n",
    "\n",
    "tstart = ti.default_timer() #timer start 計時器開啟\n",
    "for i in range(10000):\n",
    "    inversion_number_recursive(perm)\n",
    "tend = ti.default_timer() #timer end計時器關閉\n",
    "t_rec=tend - tstart#開始與結束的差值\n",
    "\n",
    "tstart = ti.default_timer() #timer start 計時器開啟\n",
    "for i in range(10000):\n",
    "    inversion_number_tworecurs(perm)\n",
    "tend = ti.default_timer() #timer end計時器關閉\n",
    "t_twr=tend - tstart#開始與結束的差值\n",
    "\n",
    "print(\"Permutation:\", perm)\n",
    "print('The inversion number of is', inversion_number_iterative(perm),'(iterat)')\n",
    "print('The inversion number of is', inversion_number_recursive(perm),'(linear)')\n",
    "print('The inversion number of is', inversion_number_tworecurs(perm),'(binary)')\n",
    "\n",
    "print(\"Iterative approach:\", t_ite)\n",
    "print(\"Recursive approach:\", t_rec)\n",
    "print(\"Binrecurs approach:\", t_twr)\n",
    "\n",
    "#---------------------------------------------------------Method 2\n",
    "print(\"Running time comparison (Timer Method 2):\")\n",
    "\n",
    "def iterative_test():\n",
    "    inversion_number_iterative(perm)\n",
    "\n",
    "def recursive_test():\n",
    "    inversion_number_recursive(perm)\n",
    "\n",
    "def binrecurs_test():\n",
    "    inversion_number_tworecurs(perm)\n",
    "    \n",
    "t_ite = ti.timeit(\"iterative_test()\", setup=\"from __main__ import iterative_test\", number = 10000)#timeit(函數名稱,執行次數)\n",
    "t_rec = ti.timeit(\"recursive_test()\", setup=\"from __main__ import recursive_test\", number = 10000)\n",
    "t_twr = ti.timeit(\"binrecurs_test()\", setup=\"from __main__ import binrecurs_test\", number = 10000)\n",
    "\n",
    "print(\"Iterative approach:\", t_ite)\n",
    "print(\"Recursive approach:\", t_rec)\n",
    "print(\"Binrecurs approach:\", t_twr)"
   ]
  },
  {
   "cell_type": "markdown",
   "metadata": {},
   "source": [
    "#### Please write down the observations you have after the comparisons:\n",
    "##### Inputs for five experiments\n",
    "1. [35, 11, 26, 13, 64, 21, 44, 6, 100, 57, 77, 82]<br>\n",
    "2. [12, 11, 13, 5, 6, 7]<br>\n",
    "3. [33, 55, 66, 77, 88, 99, 22]<br>\n",
    "4. [36, 52, 78, 94, 24, 67, 512, 2, 589, 166, 664, 556, 13, 54, 612]<br>\n",
    "5. [6154, 8124, 1254, 3012, 5469, 4512, 4321, 4720]<br>\n",
    "##### Results of comparisoms\n",
    "*******************************************************************************************************\n",
    "**Method 1**\n",
    "\n",
    "| time          | time for exp1  | time for exp2  | time for exp3  | time for exp4  | time for exp5  | \n",
    "| -----------   | -------------- | -------------- | -------------- | -------------- | -------------- |\n",
    "|Iteration      | 0.063402499996 | 0.020801999999 | 0.024288499997 | 0.075522699997 | 0.036336199999 |\n",
    "|Recursion      | 0.056478999999 | 0.026973799999 | 0.026437799999 | 0.086334000000 | 0.033943800001 |\n",
    "|Binrecurs      | 0.092417200001 | 0.033945800002 | 0.036876900005 | 0.118061000001 | 0.043609500004 |\n",
    "\n",
    "**Method 2**\n",
    "\n",
    "| time          | time for exp1  | time for exp2  | time for exp3  | time for exp4  | time for exp5  | \n",
    "| -----------   | -------------- | -------------- | -------------- | -------------- | -------------- |\n",
    "|Iteration      | 0.046621599999 | 0.017474599998 | 0.020512500007 | 0.067353999999 | 0.029817900002 |\n",
    "|Recursion      | 0.054773399999 | 0.023375900004 | 0.024586200001 | 0.081205499999 | 0.031002700001 |\n",
    "|Binrecurs      | 0.093508499995 | 0.033836500006 | 0.036545499999 | 0.117666099999 | 0.039690399994 |\n",
    "\n",
    "*******************************************************************************************************\n",
    "\n",
    "##### Observations\n",
    "According to the results, the iteration time is faster than the recursion time, even though the theoretical time complexity of binary recursion is O(nlogn), which should be faster than the other two, experimentally recursion is still much faster than binary recursion. Binary recursion requires significantly more function calls than regular recursion, so I believe this is due to the delay caused by function calls, as mentioned earlier in Program I.\n",
    "<hr>"
   ]
  }
 ],
 "metadata": {
  "kernelspec": {
   "display_name": "Python 3",
   "language": "python",
   "name": "python3"
  },
  "language_info": {
   "codemirror_mode": {
    "name": "ipython",
    "version": 3
   },
   "file_extension": ".py",
   "mimetype": "text/x-python",
   "name": "python",
   "nbconvert_exporter": "python",
   "pygments_lexer": "ipython3",
   "version": "3.11.4"
  }
 },
 "nbformat": 4,
 "nbformat_minor": 2
}
