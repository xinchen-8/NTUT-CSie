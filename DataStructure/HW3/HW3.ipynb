{
 "cells": [
  {
   "cell_type": "markdown",
   "metadata": {},
   "source": [
    "## Programming part of Homework 3 (Data Structures, Fall 2024)\n",
    "\n",
    "## Name: 陳駿逸\n",
    "## Student ID Number: 112590022\n",
    "\n",
    "### Programming problem\n",
    "Recall the problem of listing all the binary numbers smaller than or equal to a given number $n$. Please use Python to implement the pseudo-code you provide for solving the problem with the approach, named as `generateBinaryNumbers()`. \n",
    "\n",
    "#### Examples:\n",
    "```\n",
    "Input: 10\n",
    "Output: ['1', '10', '11', '100', '101', '110', '111', '1000', '1001', '1010']\n",
    "Explanation: 10 binary numbers are generated sequentially\n",
    "\n",
    "Input: 13\n",
    "Output: ['1', '10', '11', '100', '101', '110', '111', '1000', '1001', '1010', '1011', '1100', '1101']\n",
    "Explanation: 13 binary numbers are generated sequentially\n",
    "```\n",
    "Please note that your program *must use a **queue*** as an auxiliary tool. When you submit your homework, you need to indicate where the queue is in your program and how it helps. Hence, you need to\n",
    "1. implement the approach as a function named as `generateBinaryNumbers()`,\n",
    "2. implement a ***queue*** data structure to manage the items used for the method, and\n",
    "3. give a short statement for indicating where and how the queue is used in your program."
   ]
  },
  {
   "cell_type": "code",
   "execution_count": 7,
   "metadata": {},
   "outputs": [
    {
     "name": "stdout",
     "output_type": "stream",
     "text": [
      "When n is, 10 , the binary numbers are:\n",
      "['1', '10', '11', '100', '101', '110', '111', '1000', '1001', '1010']\n",
      "When n is, 13 , the binary numbers are:\n",
      "['1', '10', '11', '100', '101', '110', '111', '1000', '1001', '1010', '1011', '1100', '1101']\n"
     ]
    }
   ],
   "source": [
    "# Queue class: can be implemented using a list in Python\n",
    "class Queue:\n",
    "    def __init__(self):\n",
    "        self.m_list = []\n",
    "    \n",
    "    #enqueue()\n",
    "    def enqueue(self, item):\n",
    "        self.m_list.append(item)\n",
    "    \n",
    "    #dequeue()\n",
    "    def dequeue(self):\n",
    "        self.m_list.pop(0)\n",
    "    \n",
    "    def isEmpty(self):\n",
    "        return len(self.m_list)==0\n",
    "    \n",
    "    def size(self):\n",
    "        return len(self.m_list)\n",
    "\n",
    "    def front(self):\n",
    "        return self.m_list[0]\n",
    "\n",
    "# function for generating all the binary numbers smaller than or equal to a given number n\n",
    "def generateBinaryNumbers(n):\n",
    "    b = 1\n",
    "    q=Queue()\n",
    "    while b<=n:\n",
    "        q.enqueue(\"{0:b}\".format(b))\n",
    "        b+=1\n",
    "    return q.m_list\n",
    "\n",
    "n=10\n",
    "print(\"When n is,\",n,\", the binary numbers are:\")\n",
    "print(generateBinaryNumbers(n))\n",
    "\n",
    "n=13\n",
    "print(\"When n is,\",n,\", the binary numbers are:\")\n",
    "print(generateBinaryNumbers(n))"
   ]
  },
  {
   "cell_type": "markdown",
   "metadata": {},
   "source": [
    "#### Please answer the following:\n",
    "\n",
    "* indicate where and how the queue is used in your program.\n",
    "* Ans: I use queue and enqueue method for store the binary of numbers that less or equal than 'n' in the while loop.\n"
   ]
  }
 ],
 "metadata": {
  "kernelspec": {
   "display_name": "Python 3",
   "language": "python",
   "name": "python3"
  },
  "language_info": {
   "codemirror_mode": {
    "name": "ipython",
    "version": 3
   },
   "file_extension": ".py",
   "mimetype": "text/x-python",
   "name": "python",
   "nbconvert_exporter": "python",
   "pygments_lexer": "ipython3",
   "version": "3.12.2"
  }
 },
 "nbformat": 4,
 "nbformat_minor": 2
}
