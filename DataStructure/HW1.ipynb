{
 "cells": [
  {
   "cell_type": "markdown",
   "metadata": {
    "slideshow": {
     "slide_type": "slide"
    }
   },
   "source": [
    "## Homework 1 - Python Practice (Data Structures, Fall 2024)\n",
    "\n",
    "### Name: Chun-I, Chen\n",
    "### Student ID Number: 112590022\n",
    "\n",
    "### Problem 1\n",
    "Write a short Python function `sumoddsquares()` that takes a positive integer $n$ and returns the sum of the squares of all the odd positive integers smaller than $n$. Furthermore, please give a single command that computes the same sum in another Python function `sumoddsquares_simple()`, relying\n",
    "on Python's comprehension syntax and the built-in sum function."
   ]
  },
  {
   "cell_type": "code",
   "execution_count": 12,
   "metadata": {
    "slideshow": {
     "slide_type": "skip"
    }
   },
   "outputs": [
    {
     "name": "stdout",
     "output_type": "stream",
     "text": [
      "1\n",
      "165\n",
      "0\n",
      "10\n",
      "0\n",
      "0: 0\n",
      "1: 0\n",
      "2: 1\n",
      "3: 1\n",
      "4: 10\n",
      "5: 10\n",
      "6: 35\n",
      "7: 35\n",
      "8: 84\n",
      "9: 84\n",
      "1\n",
      "165\n",
      "0\n",
      "10\n",
      "0\n",
      "0: 0\n",
      "1: 0\n",
      "2: 1\n",
      "3: 1\n",
      "4: 10\n",
      "5: 10\n",
      "6: 35\n",
      "7: 35\n",
      "8: 84\n",
      "9: 84\n"
     ]
    }
   ],
   "source": [
    "#Write a short Python function sumoddsquares()\n",
    "def sumoddsquares(k):\n",
    "    sum = 0\n",
    "    for i in range(k):\n",
    "        if(i%2==1):\n",
    "            sum+=i**2\n",
    "    return sum\n",
    "\n",
    "# write a short Python function sumoddsquares_simple() using a single command that computes the same sum \n",
    "def sumoddsquares_simple(k):\n",
    "    return sum(i**2 for i in range(k) if i%2==1)\n",
    "\n",
    "\n",
    "print (sumoddsquares(2))  #want to add up 1*1\n",
    "print (sumoddsquares(10)) # want to add up 1*1, 3*3, etc.\n",
    "print (sumoddsquares(0))\n",
    "print (sumoddsquares(4))\n",
    "print (sumoddsquares(-5))\n",
    "for x in range (10):\n",
    "    print (f'{x}: {sumoddsquares(x)}')\n",
    "\n",
    "\n",
    "print (sumoddsquares_simple(2))  #want to add up 1*1\n",
    "print (sumoddsquares_simple(10)) # want to add up 1*1, 3*3, etc.\n",
    "print (sumoddsquares_simple(0))\n",
    "print (sumoddsquares_simple(4))\n",
    "print (sumoddsquares_simple(-5))\n",
    "for x in range (10):\n",
    "    print (f'{x}: {sumoddsquares_simple(x)}')"
   ]
  },
  {
   "cell_type": "markdown",
   "metadata": {
    "slideshow": {
     "slide_type": "slide"
    }
   },
   "source": [
    "### Problem 2\n",
    "Write a Python function `uniqueness()` that takes a sequence of numbers and determines if all the numbers are different from each other (that is, they are distinct)."
   ]
  },
  {
   "cell_type": "code",
   "execution_count": 14,
   "metadata": {
    "slideshow": {
     "slide_type": "skip"
    }
   },
   "outputs": [
    {
     "name": "stdout",
     "output_type": "stream",
     "text": [
      "True\n",
      "False\n",
      "True\n"
     ]
    }
   ],
   "source": [
    "# Write a Python function uniqueness()\n",
    "def uniqueness(seq):\n",
    "    return len(seq)==len(set(seq))\n",
    "\n",
    "data = [1,2,3,4,5,6]; print (uniqueness(data))\n",
    "data = [1,2,3,3,5,6]; print (uniqueness(data))\n",
    "data = []; print (uniqueness(data))"
   ]
  },
  {
   "cell_type": "markdown",
   "metadata": {
    "slideshow": {
     "slide_type": "slide"
    }
   },
   "source": [
    "### Problem 3\n",
    "Suppose a teacher would like to arrange the students in a row according to their heights in an increasing order from left to right. With a given sequence of heights of students, please give a way to help the teacher to decide whether the teacher can have an increasing list by rotating the list. For example, given a sequence of numbers $S=\\{6,8,9,3,5\\}$, $S$ can be rotated to be an increasing list as $\\{3,5,6,8,9\\}$ but the other example $S'=\\{1,4,5,2,3\\}$ can not be an increasing list by rotations. The input of this problem thus is a sequence of numbers and the function `rotated_increasing()` is to determine whether the input sequence can be an increasing list by rotations."
   ]
  },
  {
   "cell_type": "code",
   "execution_count": 18,
   "metadata": {
    "slideshow": {
     "slide_type": "skip"
    }
   },
   "outputs": [
    {
     "name": "stdout",
     "output_type": "stream",
     "text": [
      "[1, 2, 3, 0, 4] 5 False\n",
      "[8, 9, 11, 12, 5] 5 True\n",
      "[7, 9, 11, 12, 14] 5 True\n",
      "[15, 9, 11, 12, 13] 5 True\n",
      "[4, 5, 6, 1, 2, 3] 6 True\n",
      "[4, 6, 1, 5, 3] 5 False\n"
     ]
    }
   ],
   "source": [
    "# write function rotated_increasing()\n",
    "def rotated_increasing(seq):\n",
    "    sorted_list = sorted(seq)\n",
    "    for i in range(len(seq)):\n",
    "        new_seq = seq[i:] + seq[:i]\n",
    "        if(new_seq == sorted_list): return True\n",
    "    return False\n",
    "\n",
    "# Driver code \n",
    "arr = [1, 2, 3, 0, 4] \n",
    "print(arr, len(arr), rotated_increasing(arr)) \n",
    "\n",
    "arr = [8, 9, 11, 12, 5] \n",
    "print(arr, len(arr), rotated_increasing(arr)) \n",
    "\n",
    "arr = [7, 9, 11, 12, 14] \n",
    "print(arr, len(arr), rotated_increasing(arr)) \n",
    "\n",
    "arr = [15, 9, 11, 12, 13] \n",
    "print(arr, len(arr), rotated_increasing(arr)) \n",
    "\n",
    "arr = [4, 5, 6, 1, 2, 3] \n",
    "print(arr, len(arr), rotated_increasing(arr)) \n",
    "\n",
    "arr = [4, 6, 1, 5, 3] \n",
    "print(arr, len(arr), rotated_increasing(arr)) "
   ]
  },
  {
   "cell_type": "markdown",
   "metadata": {
    "slideshow": {
     "slide_type": "slide"
    }
   },
   "source": [
    "### Problem 4\n",
    "Write a Python class named `Circle` constructed by a radius with two major methods: `area()` and `perimeter()`, which compute the area and perimeter respectively. For this problem, we simply use $\\pi=3.14$. After a circle instance `c` is initiated with a given radius, we can print out the circle `c` with the radius using `print(c)` statement."
   ]
  },
  {
   "cell_type": "code",
   "execution_count": 24,
   "metadata": {
    "slideshow": {
     "slide_type": "skip"
    }
   },
   "outputs": [
    {
     "name": "stdout",
     "output_type": "stream",
     "text": [
      "A circle with radius     8\n",
      "The area and perimeter of the input circle are 200.96 and 50.24, respectively.\n"
     ]
    }
   ],
   "source": [
    "# Write a Python class, Circle, with required methods \n",
    "class Circle:\n",
    "    def __init__(self, r):\n",
    "        self.r = r\n",
    "    def __str__(self):\n",
    "        return f'A circle with radius {r:5d}'\n",
    "    def area(self):\n",
    "        return r**2*3.14\n",
    "    def perimeter(self):\n",
    "        return 2*r*3.14\n",
    "    \n",
    "r = int(input(\"Please give the radius of the circle:\"))\n",
    "Circle = Circle(r)\n",
    "\n",
    "print(Circle)\n",
    "print(f'The area and perimeter of the input circle are {Circle.area():5.2f} and {Circle.perimeter():5.2f}, respectively.')"
   ]
  },
  {
   "cell_type": "markdown",
   "metadata": {
    "slideshow": {
     "slide_type": "slide"
    }
   },
   "source": [
    "### Problem 5\n",
    "\n",
    "Create a Python program that will play the \"A and B\" game with a user. The game works like this:  \n",
    "One randomly generates a 4-digit number with different digits and asks the user to guess this 4-digit number. For every digit that the user guesses correctly in the correct place, the user gets an “A”.  For every digit the user guesses correctly in the wrong place, the user gets a “B”. Every time the user makes a guess, tell them how many “As” and “Bs” the user gets. The process continues until the user guesses the correct 4-digit number and the game is over. During the process, keep track of the number of guesses the user makes throughout the game and tell the user at the end.  \n",
    "\n",
    "Here is an example and suppose that the number generated by the computer is 6581. The interaction may be as below:\n",
    "\n",
    "    Welcome to the A and B Game and a 4-digit number is generated.  \n",
    "    Please guess a number: \n",
    "    >>> 6284\n",
    "    2 A, 0 B\n",
    "    >>> 2451\n",
    "    1 A, 1 B\n",
    "    ...\n",
    "Until the user guesses the correct number or enter `exit` to quit the game.\n",
    "\n",
    "In this exercise, you can use [Python random documentation](https://docs.python.org/3.0/library/random.html) to figure out how to generate a random 4-digit number. "
   ]
  },
  {
   "cell_type": "code",
   "execution_count": 31,
   "metadata": {
    "slideshow": {
     "slide_type": "skip"
    }
   },
   "outputs": [
    {
     "name": "stdout",
     "output_type": "stream",
     "text": [
      "Let's play a game of A and B\n",
      "I will generate a 4-digit number, and you have to guess the numbers one digit at a time.\n",
      "For every number in the wrong place, you get a B. For every one in the right place, you get an A.\n",
      "The game ends when you get 4 As!\n",
      "Type exit at any prompt to exit.\n",
      "You have 1 As, and 3 Bs.\n",
      "Your guess isn't quite right, try again.\n",
      "You have 0 As, and 4 Bs.\n",
      "Your guess isn't quite right, try again.\n",
      "You have 1 As, and 3 Bs.\n",
      "Your guess isn't quite right, try again.\n",
      "You have 1 As, and 3 Bs.\n",
      "Your guess isn't quite right, try again.\n",
      "You have 0 As, and 4 Bs.\n",
      "Your guess isn't quite right, try again.\n",
      "You have 1 As, and 3 Bs.\n",
      "Your guess isn't quite right, try again.\n",
      "You have 0 As, and 4 Bs.\n",
      "Your guess isn't quite right, try again.\n",
      "You have 3 As, and 1 Bs.\n",
      "Your guess isn't quite right, try again.\n",
      "You have 0 As, and 4 Bs.\n",
      "Your guess isn't quite right, try again.\n",
      "You have 1 As, and 3 Bs.\n",
      "Your guess isn't quite right, try again.\n",
      "You have 0 As, and 4 Bs.\n",
      "Your guess isn't quite right, try again.\n",
      "You have 0 As, and 4 Bs.\n",
      "Your guess isn't quite right, try again.\n",
      "You have 0 As, and 4 Bs.\n",
      "Your guess isn't quite right, try again.\n",
      "You have 1 As, and 3 Bs.\n",
      "Your guess isn't quite right, try again.\n",
      "Sorry to see you leave after 15 guesses and the number was 8704.\n"
     ]
    }
   ],
   "source": [
    "\"\"\"\n",
    "Create a python program that will play the \"A and B\" game with a user. The game works like this:  \n",
    "One randomly generates a 4-digit number and asks the user to guess this 4-digit number. For every digit that \n",
    "the user guesses correctly in the correct place, the user gets an “A”.  For every digit the user guesses correctly \n",
    "in the wrong place, the user gets a “B”. Every time the user makes a guess, tell them how many “As” and “Bs” the user gets. \n",
    "The process continues until the user guesses the correct 4-digit number and the game is over. During the process, \n",
    "keep track of the number of guesses the user makes throughout the game and tell the user at the end.  \n",
    "Here is an example and suppose that the number generated by the computer is 6581. The interaction may be as below:\n",
    "\n",
    "    Welcome to the A and B Game and a 4-digit number is generated.  \n",
    "    Please guess a number: \n",
    "    >>> 6284\n",
    "    2 A, 0 B\n",
    "    >>> 2451\n",
    "    1 A, 1 B\n",
    "    ...\n",
    "\"\"\"\n",
    "\n",
    "import random\n",
    "\n",
    "# For explanation and one can use it in the code\n",
    "print(\"Let's play a game of A and B\") #explanation\n",
    "print(\"I will generate a 4-digit number, and you have to guess the numbers one digit at a time.\")\n",
    "print(\"For every number in the wrong place, you get a B. For every one in the right place, you get an A.\")\n",
    "print(\"The game ends when you get 4 As!\")\n",
    "print(\"Type exit at any prompt to exit.\")\n",
    "\n",
    "num = str(random.randint(1, 10**4))\n",
    "times = 0\n",
    "\n",
    "while 1:\n",
    "    times+=1\n",
    "    guess = input('Give me your best guess: ')\n",
    "    if(guess=='exit'):\n",
    "        print(f'Sorry to see you leave after {times} guesses and the number was {num}.')\n",
    "        break\n",
    "\n",
    "    A,B = 0,0\n",
    "    for i in range(4):\n",
    "        if(num[i]==guess[i]): A+=1\n",
    "        else: B+=1\n",
    "    print(f'You have {A} As, and {B} Bs.')\n",
    "\n",
    "    if(A!=4): \n",
    "        print('Your guess isn\\'t quite right, try again.')\n",
    "    else:\n",
    "        print(f'Suprise!! You win!! after {times} guesses.')\n",
    "        break"
   ]
  }
 ],
 "metadata": {
  "celltoolbar": "Slideshow",
  "kernelspec": {
   "display_name": "Python 3 (ipykernel)",
   "language": "python",
   "name": "python3"
  },
  "language_info": {
   "codemirror_mode": {
    "name": "ipython",
    "version": 3
   },
   "file_extension": ".py",
   "mimetype": "text/x-python",
   "name": "python",
   "nbconvert_exporter": "python",
   "pygments_lexer": "ipython3",
   "version": "3.11.4"
  }
 },
 "nbformat": 4,
 "nbformat_minor": 4
}
